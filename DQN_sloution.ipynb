{
 "cells": [
  {
   "metadata": {
    "ExecuteTime": {
     "end_time": "2025-04-26T08:18:59.885119Z",
     "start_time": "2025-04-26T08:18:57.708015Z"
    }
   },
   "cell_type": "code",
   "source": [
    "import gym\n",
    "import random\n",
    "import torch\n",
    "import numpy as np\n",
    "from collections import deque\n",
    "import matplotlib.pyplot as plt\n",
    "%matplotlib inline"
   ],
   "id": "4490ca7393bf4e60",
   "outputs": [],
   "execution_count": 1
  },
  {
   "metadata": {
    "ExecuteTime": {
     "end_time": "2025-04-26T08:19:02.126013Z",
     "start_time": "2025-04-26T08:18:59.892126Z"
    }
   },
   "cell_type": "code",
   "source": [
    "import qlib\n",
    "from qlib.constant import REG_CN\n",
    "qlib.init(provider_uri=\"~/.qlib/qlib_data/\", region=REG_CN)"
   ],
   "id": "a1107eac764f5a82",
   "outputs": [
    {
     "name": "stderr",
     "output_type": "stream",
     "text": [
      "[3536:MainThread](2025-04-26 16:19:01,041) INFO - qlib.Initialization - [config.py:420] - default_conf: client.\n",
      "[3536:MainThread](2025-04-26 16:19:02,119) INFO - qlib.Initialization - [__init__.py:74] - qlib successfully initialized based on client settings.\n",
      "[3536:MainThread](2025-04-26 16:19:02,120) INFO - qlib.Initialization - [__init__.py:76] - data_path={'__DEFAULT_FREQ': WindowsPath('C:/Users/13574/.qlib/qlib_data')}\n"
     ]
    }
   ],
   "execution_count": 2
  },
  {
   "metadata": {
    "ExecuteTime": {
     "end_time": "2025-04-26T08:20:38.548249Z",
     "start_time": "2025-04-26T08:20:38.530813Z"
    }
   },
   "cell_type": "code",
   "source": [
    "from qlib.data import D\n",
    "import pandas as pd\n",
    "# 获取指定时间范围内的日频交易日历\n",
    "trade_dates = D.calendar(start_time='2000-01-01', end_time='2025-04-17')\n",
    "# 定义指数代码\n",
    "index_code = 'SH000300'\n",
    "# 定义需要获取的字段\n",
    "fields = ['$open', '$high', '$low', '$close', '$volume']\n",
    "# 获取指数的历史数据\n",
    "df = D.features([index_code], fields=fields, start_time='2000-01-05', end_time='2025-04-17', freq='day')\n",
    "df.columns=['open', 'high', 'low', 'close', 'volume']\n",
    "df = df.reset_index(level='datetime')\n",
    "df['close_horizon'] = df['close'].shift(-5)\n",
    "# 查看前几行数据\n",
    "print(df.head())"
   ],
   "id": "2d2a5120c679a334",
   "outputs": [
    {
     "name": "stdout",
     "output_type": "stream",
     "text": [
      "             datetime      open      high       low     close        volume  \\\n",
      "instrument                                                                    \n",
      "SH000300   2005-01-04  1.012185  1.012185  0.997827  1.000000  7.285323e+09   \n",
      "SH000300   2005-01-05  0.998762  1.014783  0.997032  1.009941  6.996617e+09   \n",
      "SH000300   2005-01-06  1.010721  1.011186  0.997493  1.000387  6.179837e+09   \n",
      "SH000300   2005-01-07  1.000262  1.013149  0.996972  1.001191  7.173069e+09   \n",
      "SH000300   2005-01-10  1.000988  1.011366  0.996947  1.011284  5.692017e+09   \n",
      "\n",
      "            close_horizon  \n",
      "instrument                 \n",
      "SH000300         1.014601  \n",
      "SH000300         1.014205  \n",
      "SH000300         1.014337  \n",
      "SH000300         1.005617  \n",
      "SH000300         0.984391  \n"
     ]
    }
   ],
   "execution_count": 14
  },
  {
   "metadata": {
    "ExecuteTime": {
     "end_time": "2025-04-26T08:20:51.467113Z",
     "start_time": "2025-04-26T08:20:51.456060Z"
    }
   },
   "cell_type": "code",
   "source": [
    "import pandas as pd\n",
    "\n",
    "def add_technical_indicators(df):\n",
    "    \"\"\"\n",
    "    给DataFrame加常用技术指标（MA, RSI, MACD, STD, MOM）\n",
    "    要求df至少有: 'close', 'open', 'high', 'low', 'volume'列\n",
    "    \"\"\"\n",
    "    df = df.copy()\n",
    "\n",
    "    # 均线\n",
    "    df['ma5'] = df['close'].rolling(window=5).mean()\n",
    "    df['ma10'] = df['close'].rolling(window=10).mean()\n",
    "\n",
    "    # 标准差（波动率）\n",
    "    df['std5'] = df['close'].rolling(window=5).std()\n",
    "\n",
    "    # 动量\n",
    "    df['mom5'] = df['close'].diff(5)\n",
    "\n",
    "    # RSI (14天)\n",
    "    delta = df['close'].diff()\n",
    "    up = delta.clip(lower=0)\n",
    "    down = -1 * delta.clip(upper=0)\n",
    "    avg_gain = up.rolling(14).mean()\n",
    "    avg_loss = down.rolling(14).mean()\n",
    "    rs = avg_gain / (avg_loss + 1e-6)  # 避免除零\n",
    "    df['rsi'] = 100 - (100 / (1 + rs))\n",
    "\n",
    "    # MACD\n",
    "    ema12 = df['close'].ewm(span=12, adjust=False).mean()\n",
    "    ema26 = df['close'].ewm(span=26, adjust=False).mean()\n",
    "    df['macd'] = ema12 - ema26\n",
    "    df['macd_signal'] = df['macd'].ewm(span=9, adjust=False).mean()\n",
    "    df['macd_diff'] = df['macd'] - df['macd_signal']\n",
    "\n",
    "    # 记得丢掉有空值的行\n",
    "    df = df.dropna().reset_index(drop=True)\n",
    "\n",
    "    return df\n"
   ],
   "id": "dc66acd14f80dd89",
   "outputs": [],
   "execution_count": 15
  },
  {
   "metadata": {
    "ExecuteTime": {
     "end_time": "2025-04-26T08:20:55.177237Z",
     "start_time": "2025-04-26T08:20:55.160031Z"
    }
   },
   "cell_type": "code",
   "source": [
    "# df原本只有: date, open, high, low, close, volume\n",
    "\n",
    "df = add_technical_indicators(df)\n",
    "\n",
    "print(df.columns)"
   ],
   "id": "a19620527fd512bc",
   "outputs": [
    {
     "name": "stdout",
     "output_type": "stream",
     "text": [
      "Index(['datetime', 'open', 'high', 'low', 'close', 'volume', 'close_horizon',\n",
      "       'ma5', 'ma10', 'std5', 'mom5', 'rsi', 'macd', 'macd_signal',\n",
      "       'macd_diff'],\n",
      "      dtype='object')\n"
     ]
    }
   ],
   "execution_count": 16
  },
  {
   "metadata": {
    "ExecuteTime": {
     "end_time": "2025-04-26T08:20:58.262886Z",
     "start_time": "2025-04-26T08:20:58.246855Z"
    }
   },
   "cell_type": "code",
   "source": [
    "import math\n",
    "def train_test_split(train_size, df):\n",
    "    size = math.ceil(train_size * len(df))\n",
    "    train_df = df.iloc[:size, :]\n",
    "    test_df = df.iloc[size:, :]\n",
    "    return train_df ,test_df\n",
    "\n",
    "train_df, test_df = train_test_split(.7, df)\n",
    "train_df.reset_index(drop=True, inplace=True)\n",
    "test_df.reset_index(drop=True, inplace=True)\n",
    "\n",
    "print(\"Traing Dataset info: \", train_df.shape)\n",
    "print(\"Test Dataset info: \", test_df.shape)"
   ],
   "id": "f6937b9b00135de9",
   "outputs": [
    {
     "name": "stdout",
     "output_type": "stream",
     "text": [
      "Traing Dataset info:  (3436, 15)\n",
      "Test Dataset info:  (1472, 15)\n"
     ]
    }
   ],
   "execution_count": 17
  },
  {
   "metadata": {
    "ExecuteTime": {
     "end_time": "2025-04-26T08:21:01.143404Z",
     "start_time": "2025-04-26T08:21:01.136408Z"
    }
   },
   "cell_type": "code",
   "source": "print(train_df.columns)",
   "id": "8b584742d5d8a530",
   "outputs": [
    {
     "name": "stdout",
     "output_type": "stream",
     "text": [
      "Index(['datetime', 'open', 'high', 'low', 'close', 'volume', 'close_horizon',\n",
      "       'ma5', 'ma10', 'std5', 'mom5', 'rsi', 'macd', 'macd_signal',\n",
      "       'macd_diff'],\n",
      "      dtype='object')\n"
     ]
    }
   ],
   "execution_count": 18
  },
  {
   "metadata": {
    "ExecuteTime": {
     "end_time": "2025-04-26T12:57:52.917572Z",
     "start_time": "2025-04-26T12:57:52.896123Z"
    }
   },
   "cell_type": "code",
   "source": [
    "from tqdm import tqdm\n",
    "from DQN_agent import Agent\n",
    "from DQN_enviorment import StockTradingEnv\n",
    "tech_indicator_list = ['ma5', 'ma10', 'std5', 'mom5', 'rsi', 'macd', 'macd_signal', 'macd_diff']\n",
    "episodes = 1\n",
    "\n",
    "def Train_DQN(env: StockTradingEnv):\n",
    "    agent = Agent(**agent_param)\n",
    "    print('\\nCollecting experience...')\n",
    "    for i_episode in tqdm(range(episodes), desc=\"Training episode: \"):\n",
    "    # for i_episode in range(episodes):\n",
    "        state = env.reset()  # 获得初始化 observation 环境特征\n",
    "        ep_r = 0 # 作为一个计数变量，来统计我第n次训练。 完成所有动作的分的总和\n",
    "        while True:\n",
    "            action = agent.act(state)\n",
    "            next_state, reward, done, _ = env.step(action)\n",
    "            # 存储数据  每完成一个动作，记忆存储数据一次\n",
    "            agent.step(state, action, reward, next_state, done)\n",
    "            ep_r += reward\n",
    "            # 数据库中多于memory size时候就会学习\n",
    "            if done:\n",
    "                # 打印这是i_episode次训练, Ep_reward代表这次的总分\n",
    "                # print('Ep: ', i_episode+1, '| Ep_reward: ', round(ep_r, 2))\n",
    "                break\n",
    "            state = next_state\n",
    "    return agent\n",
    "\n",
    "\n",
    "def Test_DQN(env_config, test_data: pd.DataFrame, agent):\n",
    "    \"\"\"\n",
    "    :param env_config: dict\n",
    "    :param test_data: trade data about test time\n",
    "    :param agent: agent object\n",
    "    \"\"\"\n",
    "    print(\"start predicting...\")\n",
    "    env = StockTradingEnv(test_data, **env_config)\n",
    "    state = env.reset()\n",
    "    ep_r = 0\n",
    "    while True:\n",
    "        action = agent.act(state)\n",
    "        next_state, reward, done, _ = env.step(action)\n",
    "        ep_r += reward\n",
    "        if done:\n",
    "            break\n",
    "        state = next_state\n",
    "    print(f'reward: {ep_r}')\n",
    "    result = env.plot_df\n",
    "    return result\n",
    "random_list = [294, 185, 7, 300, 368, 724]\n",
    "\n",
    "result = {}\n",
    "for seed in random_list:\n",
    "    torch.manual_seed(seed)\n",
    "    np.random.seed(seed)\n",
    "    agent_param = {\n",
    "        \"state_size\": 8,\n",
    "        \"action_size\": 3,\n",
    "        'seed':0,\n",
    "    }\n",
    "    env_params = {\n",
    "        \"buy_cost_pct\": 0.0005,\n",
    "        \"sell_cost_pct\": 0.0005,\n",
    "        \"tech_indicator_list\":tech_indicator_list,\n",
    "        \"seed\": seed\n",
    "    }"
   ],
   "id": "8783f770905505fd",
   "outputs": [],
   "execution_count": 49
  },
  {
   "metadata": {
    "ExecuteTime": {
     "end_time": "2025-04-26T11:03:38.778363Z",
     "start_time": "2025-04-26T08:52:44.580278Z"
    }
   },
   "cell_type": "code",
   "source": [
    "# reinforecement learning\n",
    "train_env = StockTradingEnv(df = train_df, **env_params)\n",
    "agent = Train_DQN(train_env)\n",
    "res_df = Test_DQN(test_data=test_df, env_config=env_params, agent=agent)\n",
    "# save result\n",
    "result[f\"seed_{seed}\"] = res_df"
   ],
   "id": "e813d5040f4d58a8",
   "outputs": [
    {
     "name": "stdout",
     "output_type": "stream",
     "text": [
      "\n",
      "Collecting experience...\n"
     ]
    },
    {
     "name": "stderr",
     "output_type": "stream",
     "text": [
      "Training episode: 100%|██████████| 1000/1000 [2:10:52<00:00,  7.85s/it] \n"
     ]
    },
    {
     "name": "stdout",
     "output_type": "stream",
     "text": [
      "start predicting...\n",
      "reward: 41.62529373168945\n"
     ]
    }
   ],
   "execution_count": 27
  },
  {
   "metadata": {
    "ExecuteTime": {
     "end_time": "2025-04-26T13:02:34.486772Z",
     "start_time": "2025-04-26T13:01:37.411841Z"
    }
   },
   "cell_type": "code",
   "source": [
    "import pandas as pd\n",
    "import numpy as np\n",
    "import copy\n",
    "from DQN_enviorment import Get_PosRet, Sharp_Ratio\n",
    "# 假设你有 train_df, test_df\n",
    "# train_df, test_df = ...\n",
    "\n",
    "\n",
    "# 1. 训练多个随机种子的agent\n",
    "random_list = [7, 42, 185, 294, 300, 368]\n",
    "result = {}\n",
    "\n",
    "for seed in random_list:\n",
    "    np.random.seed(seed)  # 保证每次随机不同\n",
    "    train_env = StockTradingEnv(df=train_df, **env_params)\n",
    "    agent = Train_DQN(train_env)\n",
    "\n",
    "    # 测试阶段，获取信号\n",
    "    try:\n",
    "        res_df = Test_DQN(test_data=test_df, env_config=env_params, agent=agent)\n",
    "        result[f\"seed_{seed}\"] = res_df\n",
    "    except Exception as e:\n",
    "        print(f\"Warning: seed_{seed} failed, skipping. Reason: {e}\")\n",
    "\n",
    "# 2. 把不同种子的预测信号整合\n",
    "df = test_df[['datetime', 'close']].copy()  # 只要date和close\n",
    "signal_col = []\n",
    "\n",
    "for seed in random_list:\n",
    "    key = f\"seed_{seed}\"\n",
    "    if key in result:\n",
    "        signal_col.append(key)\n",
    "        df[key] = result[key]['signal']  # 把每个模型的signal加进来\n",
    "    else:\n",
    "        print(f\"Warning: {key} not found in result, skipping.\")\n",
    "\n",
    "# 3. 投票融合不同agent的信号\n",
    "if len(signal_col) == 0:\n",
    "    raise ValueError(\"No valid signals found. Please check your training and testing.\")\n",
    "\n",
    "df['signal'] = df[signal_col].mode(axis=1)[0]  # 取众数作为最终信号\n",
    "\n",
    "# 4. 根据最终信号计算持仓收益\n",
    "df = Get_PosRet(df)\n",
    "\n",
    "# 5. 计算基准收益（比如持有指数不交易）\n",
    "df['benchmark'] = df['close'].pct_change()\n",
    "df['cum_mkt'] = (1 + df['benchmark']).cumprod() - 1  # 基准累积收益\n",
    "df['cum_strategy'] = (1 + df['return']).cumprod() - 1  # 策略累积收益\n",
    "\n",
    "# 6. 打印/画图/保存结果\n",
    "print(\"策略最终收益率：\", df['cum_strategy'].iloc[-1])\n",
    "print(\"基准最终收益率：\", df['cum_mkt'].iloc[-1])\n",
    "print(\"策略夏普比率：\", Sharp_Ratio(df['return']))\n",
    "\n",
    "\n"
   ],
   "id": "68172442fc04936b",
   "outputs": [
    {
     "name": "stdout",
     "output_type": "stream",
     "text": [
      "\n",
      "Collecting experience...\n"
     ]
    },
    {
     "name": "stderr",
     "output_type": "stream",
     "text": [
      "Training episode: 100%|██████████| 1/1 [00:08<00:00,  8.05s/it]\n"
     ]
    },
    {
     "name": "stdout",
     "output_type": "stream",
     "text": [
      "start predicting...\n",
      "reward: 41.62529373168945\n",
      "\n",
      "Collecting experience...\n"
     ]
    },
    {
     "name": "stderr",
     "output_type": "stream",
     "text": [
      "Training episode: 100%|██████████| 1/1 [00:07<00:00,  7.64s/it]\n"
     ]
    },
    {
     "name": "stdout",
     "output_type": "stream",
     "text": [
      "start predicting...\n",
      "reward: 41.62529373168945\n",
      "\n",
      "Collecting experience...\n"
     ]
    },
    {
     "name": "stderr",
     "output_type": "stream",
     "text": [
      "Training episode: 100%|██████████| 1/1 [00:07<00:00,  7.72s/it]\n"
     ]
    },
    {
     "name": "stdout",
     "output_type": "stream",
     "text": [
      "start predicting...\n",
      "reward: 41.62529373168945\n",
      "\n",
      "Collecting experience...\n"
     ]
    },
    {
     "name": "stderr",
     "output_type": "stream",
     "text": [
      "Training episode: 100%|██████████| 1/1 [00:07<00:00,  7.77s/it]\n"
     ]
    },
    {
     "name": "stdout",
     "output_type": "stream",
     "text": [
      "start predicting...\n",
      "reward: 41.62529373168945\n",
      "\n",
      "Collecting experience...\n"
     ]
    },
    {
     "name": "stderr",
     "output_type": "stream",
     "text": [
      "Training episode: 100%|██████████| 1/1 [00:07<00:00,  7.80s/it]\n"
     ]
    },
    {
     "name": "stdout",
     "output_type": "stream",
     "text": [
      "start predicting...\n",
      "reward: 41.62529373168945\n",
      "\n",
      "Collecting experience...\n"
     ]
    },
    {
     "name": "stderr",
     "output_type": "stream",
     "text": [
      "Training episode: 100%|██████████| 1/1 [00:07<00:00,  7.60s/it]\n"
     ]
    },
    {
     "name": "stdout",
     "output_type": "stream",
     "text": [
      "start predicting...\n",
      "reward: 41.62529373168945\n",
      "策略最终收益率： 0.0\n",
      "基准最终收益率： -0.030281067\n",
      "策略夏普比率： nan\n"
     ]
    }
   ],
   "execution_count": 51
  },
  {
   "metadata": {
    "ExecuteTime": {
     "end_time": "2025-04-26T13:05:33.280941Z",
     "start_time": "2025-04-26T13:05:33.182924Z"
    }
   },
   "cell_type": "code",
   "source": [
    "# 如果要画收益曲线\n",
    "import matplotlib.pyplot as plt\n",
    "\n",
    "plt.figure(figsize=(12,6))\n",
    "plt.plot(df['datetime'], df['cum_strategy'], label=\"DQN策略\")\n",
    "plt.plot(df['datetime'], df['cum_mkt'], label=\"基准\")\n",
    "plt.legend()\n",
    "plt.title(\"策略 vs 基准 收益曲线\")\n",
    "plt.show()"
   ],
   "id": "e260ec047f3a2da5",
   "outputs": [
    {
     "data": {
      "text/plain": [
       "<Figure size 1200x600 with 1 Axes>"
      ],
      "image/png": "[encoded data removed]"
     },
     "metadata": {},
     "output_type": "display_data"
    }
   ],
   "execution_count": 52
  },
  {
   "metadata": {
    "ExecuteTime": {
     "end_time": "2025-04-26T13:05:37.104267Z",
     "start_time": "2025-04-26T13:05:37.082270Z"
    }
   },
   "cell_type": "code",
   "source": [
    "# 工具1：计算年化夏普比率\n",
    "def Annual_Sharpe_Ratio(daily_returns, trading_days=252):\n",
    "    mean_return = daily_returns.mean()\n",
    "    std_return = daily_returns.std()\n",
    "    sharpe_ratio = (mean_return / std_return) * np.sqrt(trading_days)\n",
    "    return sharpe_ratio\n",
    "\n",
    "# 工具2：最大回撤计算\n",
    "def Max_Drawdown(cum_returns):\n",
    "    roll_max = cum_returns.cummax()\n",
    "    drawdown = (cum_returns - roll_max) / roll_max\n",
    "    max_drawdown = drawdown.min()\n",
    "    return max_drawdown\n",
    "\n",
    "# 工具3：年度回测总结\n",
    "def Yearly_Performance(df):\n",
    "    df['year'] = pd.to_datetime(df['datetime']).dt.year\n",
    "\n",
    "    result = []\n",
    "\n",
    "    for year in df['year'].unique():\n",
    "        temp = df[df['year'] == year]\n",
    "        year_return = (temp['cum_strategy'].iloc[-1] + 1) / (temp['cum_strategy'].iloc[0] + 1) - 1\n",
    "        benchmark_return = (temp['cum_mkt'].iloc[-1] + 1) / (temp['cum_mkt'].iloc[0] + 1) - 1\n",
    "        sharpe = Annual_Sharpe_Ratio(temp['return'])\n",
    "        mdd = Max_Drawdown(temp['cum_strategy'] + 1)  # 注意累积收益+1后计算\n",
    "\n",
    "        result.append({\n",
    "            'Year': year,\n",
    "            'Strategy Return': round(year_return * 100, 2),\n",
    "            'Benchmark Return': round(benchmark_return * 100, 2),\n",
    "            'Strategy Sharpe': round(sharpe, 2),\n",
    "            'Max Drawdown': round(mdd * 100, 2)\n",
    "        })\n",
    "\n",
    "    result_df = pd.DataFrame(result)\n",
    "    return result_df\n",
    "\n",
    "# --- 刚才的流程之后，加上这一段 ---\n",
    "\n",
    "# 年度回测总结表\n",
    "yearly_result = Yearly_Performance(df)\n",
    "print(\"\\n📈 年度回测表现：\")\n",
    "print(yearly_result)\n",
    "\n",
    "# 如果想保存\n",
    "# yearly_result.to_csv(\"yearly_performance.csv\", index=False)\n"
   ],
   "id": "fab1f5e90a85206a",
   "outputs": [
    {
     "name": "stdout",
     "output_type": "stream",
     "text": [
      "\n",
      "📈 年度回测表现：\n",
      "   Year  Strategy Return  Benchmark Return  Strategy Sharpe  Max Drawdown\n",
      "0  2019              0.0               NaN              NaN           0.0\n",
      "1  2020              0.0             25.51              NaN           0.0\n",
      "2  2021              0.0             -6.21              NaN           0.0\n",
      "3  2022              0.0            -21.27              NaN           0.0\n",
      "4  2023              0.0            -11.75              NaN           0.0\n",
      "5  2024              0.0             16.20              NaN           0.0\n",
      "6  2025              0.0             -2.23              NaN           0.0\n"
     ]
    }
   ],
   "execution_count": 53
  },
  {
   "metadata": {
    "ExecuteTime": {
     "end_time": "2025-04-26T13:05:43.729229Z",
     "start_time": "2025-04-26T13:05:43.724228Z"
    }
   },
   "cell_type": "code",
   "source": "print(df[['datetime', 'return', 'cum_strategy', 'cum_mkt']].head(20))\n",
   "id": "c9d80441db9e4b20",
   "outputs": [
    {
     "name": "stdout",
     "output_type": "stream",
     "text": [
      "     datetime  return  cum_strategy   cum_mkt\n",
      "0  2019-03-18     0.0           0.0       NaN\n",
      "1  2019-03-19     0.0           0.0 -0.004619\n",
      "2  2019-03-20     0.0           0.0 -0.004234\n",
      "3  2019-03-21     0.0           0.0 -0.003858\n",
      "4  2019-03-22     0.0           0.0 -0.004660\n",
      "5  2019-03-25     0.0           0.0 -0.028278\n",
      "6  2019-03-26     0.0           0.0 -0.039284\n",
      "7  2019-03-27     0.0           0.0 -0.028133\n",
      "8  2019-03-28     0.0           0.0 -0.032025\n",
      "9  2019-03-29     0.0           0.0  0.005346\n",
      "10 2019-04-01     0.0           0.0  0.031721\n",
      "11 2019-04-02     0.0           0.0  0.031035\n",
      "12 2019-04-03     0.0           0.0  0.044242\n",
      "13 2019-04-04     0.0           0.0  0.054645\n",
      "14 2019-04-08     0.0           0.0  0.053347\n",
      "15 2019-04-09     0.0           0.0  0.058072\n",
      "16 2019-04-10     0.0           0.0  0.060777\n",
      "17 2019-04-11     0.0           0.0  0.037861\n",
      "18 2019-04-12     0.0           0.0  0.035534\n",
      "19 2019-04-15     0.0           0.0  0.032133\n"
     ]
    }
   ],
   "execution_count": 54
  },
  {
   "metadata": {
    "ExecuteTime": {
     "end_time": "2025-04-26T13:05:53.220548Z",
     "start_time": "2025-04-26T13:05:53.133548Z"
    }
   },
   "cell_type": "code",
   "source": [
    "import matplotlib.pyplot as plt\n",
    "\n",
    "def Plot_Yearly_Returns(yearly_result):\n",
    "    plt.figure(figsize=(5,3))\n",
    "\n",
    "    # 获取数据\n",
    "    years = yearly_result['Year']\n",
    "    returns = yearly_result['Strategy Return']\n",
    "\n",
    "    # 涨的用红色，跌的用绿色\n",
    "    colors = ['red' if r >= 0 else 'green' for r in returns]\n",
    "\n",
    "    bars = plt.bar(years, returns, color=colors, width=0.6)\n",
    "\n",
    "    # 添加数值标签\n",
    "    for bar in bars:\n",
    "        yval = bar.get_height()\n",
    "        plt.text(bar.get_x() + bar.get_width()/2, yval + (0.5 if yval >=0 else -2),\n",
    "                 f'{yval:.1f}%', ha='center', va='bottom' if yval>=0 else 'top', fontsize=10)\n",
    "\n",
    "    plt.axhline(0, color='black', linewidth=0.8)  # 加一条横线表示0%\n",
    "    plt.title('📊 Annual Strategy Returns', fontsize=16)\n",
    "    plt.xlabel('Year', fontsize=14)\n",
    "    plt.ylabel('Return (%)', fontsize=14)\n",
    "    plt.xticks(years, rotation=45)\n",
    "    plt.grid(axis='y', linestyle='--', alpha=0.7)\n",
    "    plt.tight_layout()\n",
    "    plt.show()\n",
    "Plot_Yearly_Returns(yearly_result)"
   ],
   "id": "4e6314c7c6e17964",
   "outputs": [
    {
     "data": {
      "text/plain": [
       "<Figure size 500x300 with 1 Axes>"
      ],
      "image/png": "[encoded data removed]"
     },
     "metadata": {},
     "output_type": "display_data"
    }
   ],
   "execution_count": 55
  },
  {
   "metadata": {},
   "cell_type": "code",
   "outputs": [],
   "execution_count": null,
   "source": "",
   "id": "173a2e82acf6ace0"
  }
 ],
 "metadata": {
  "kernelspec": {
   "display_name": "Python 3",
   "language": "python",
   "name": "python3"
  },
  "language_info": {
   "codemirror_mode": {
    "name": "ipython",
    "version": 2
   },
   "file_extension": ".py",
   "mimetype": "text/x-python",
   "name": "python",
   "nbconvert_exporter": "python",
   "pygments_lexer": "ipython2",
   "version": "2.7.6"
  }
 },
 "nbformat": 4,
 "nbformat_minor": 5
}
